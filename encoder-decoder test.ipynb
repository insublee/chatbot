{
 "cells": [
  {
   "cell_type": "code",
   "execution_count": 1,
   "id": "cardiac-advance",
   "metadata": {
    "scrolled": true
   },
   "outputs": [
    {
     "name": "stdout",
     "output_type": "stream",
     "text": [
      "torch.Size([20, 32, 512])\n"
     ]
    }
   ],
   "source": [
    "# 기본\n",
    "import torch\n",
    "import torch.nn as nn\n",
    "transformer_model = nn.Transformer()\n",
    "src = torch.rand((10, 32, 512))\n",
    "tgt = torch.rand((20, 32, 512))\n",
    "out = transformer_model(src, tgt)\n",
    "print(out.size())"
   ]
  },
  {
   "cell_type": "code",
   "execution_count": 2,
   "id": "artistic-sheep",
   "metadata": {
    "scrolled": true
   },
   "outputs": [
    {
     "name": "stdout",
     "output_type": "stream",
     "text": [
      "memory.size() : torch.Size([32, 2048])\n",
      "dec_out.size() : torch.Size([20, 32, 512])\n",
      "transformer_out.size() :  torch.Size([20, 32, 512])\n"
     ]
    }
   ],
   "source": [
    "# 만든거\n",
    "from chatbot.model import CustomEncoder, CustomDecoder\n",
    "import torch\n",
    "src = torch.rand((20, 32, 512))\n",
    "tgt = torch.rand((20, 32, 512))\n",
    "enc = CustomEncoder()\n",
    "dec = CustomDecoder()\n",
    "memory = enc(src)\n",
    "print(\"memory.size() :\", memory.size()) #N,d_memory\n",
    "dec_out = dec(tgt, memory)\n",
    "print(\"dec_out.size() :\", dec_out.size())\n",
    "\n",
    "transformer = nn.Transformer(custom_encoder=enc, custom_decoder=dec)\n",
    "transformer_out = transformer(src, tgt)\n",
    "print(\"transformer_out.size() : \",transformer_out.size())"
   ]
  },
  {
   "cell_type": "markdown",
   "id": "focal-affair",
   "metadata": {},
   "source": [
    "            - src: :math:`(S, N, E)`.\n",
    "            - tgt: :math:`(T, N, E)`.\n",
    "            - src_mask: :math:`(S, S)`.\n",
    "            - tgt_mask: :math:`(T, T)`.\n",
    "            - memory_mask: :math:`(T, S)`.\n",
    "            - src_key_padding_mask: :math:`(N, S)`.\n",
    "            - tgt_key_padding_mask: :math:`(N, T)`.\n",
    "            - memory_key_padding_mask: :math:`(N, S)`.\n",
    "S : source sequence length  \n",
    "T : target sequence length  \n",
    "N : batch size  \n",
    "E : feature number  \n",
    "            "
   ]
  },
  {
   "cell_type": "markdown",
   "id": "otherwise-nudist",
   "metadata": {},
   "source": [
    "# (S,N)[0]\n",
    "![title](https://pytorch.org/tutorials/_images/transformer_input_target.png) "
   ]
  },
  {
   "cell_type": "code",
   "execution_count": 3,
   "id": "weird-still",
   "metadata": {
    "scrolled": true
   },
   "outputs": [
    {
     "name": "stderr",
     "output_type": "stream",
     "text": [
      "36718lines [00:01, 26204.43lines/s]\n"
     ]
    },
    {
     "name": "stdout",
     "output_type": "stream",
     "text": [
      "torch.Size([102499, 20])\n",
      "torch.Size([35, 20]) torch.Size([35, 20])\n",
      "tensor([   10,  3850,  3870,   882,    10, 20001,    84,  3850,    89,     0,\n",
      "         3870,    22,   781, 28781,     3,  6183,     4,  3850,     5,     2,\n",
      "         5024,    89,    21,     3,  1838,  1019,     8,    15,  3850,  3870,\n",
      "          882,   630,   977,     3,    24], device='cuda:0') \n",
      " tensor([ 3850,  3870,   882,    10, 20001,    84,  3850,    89,     0,  3870,\n",
      "           22,   781, 28781,     3,  6183,     4,  3850,     5,     2,  5024,\n",
      "           89,    21,     3,  1838,  1019,     8,    15,  3850,  3870,   882,\n",
      "          630,   977,     3,    24,     9], device='cuda:0')\n"
     ]
    }
   ],
   "source": [
    "import io\n",
    "import torch\n",
    "from torchtext.utils import download_from_url, extract_archive\n",
    "from torchtext.data.utils import get_tokenizer\n",
    "from torchtext.vocab import build_vocab_from_iterator\n",
    "\n",
    "url = 'https://s3.amazonaws.com/research.metamind.io/wikitext/wikitext-2-v1.zip'\n",
    "test_filepath, valid_filepath, train_filepath = extract_archive(download_from_url(url))\n",
    "tokenizer = get_tokenizer('basic_english')\n",
    "vocab = build_vocab_from_iterator(map(tokenizer,\n",
    "                                      iter(io.open(train_filepath,\n",
    "                                                   encoding=\"utf8\"))))\n",
    "\n",
    "def data_process(raw_text_iter):\n",
    "    data = [torch.tensor([vocab[token] for token in tokenizer(item)],\n",
    "                         dtype=torch.long) for item in raw_text_iter]\n",
    "    return torch.cat(tuple(filter(lambda t: t.numel() > 0, data)))\n",
    "\n",
    "train_data = data_process(iter(io.open(train_filepath, encoding=\"utf8\")))\n",
    "val_data = data_process(iter(io.open(valid_filepath, encoding=\"utf8\")))\n",
    "test_data = data_process(iter(io.open(test_filepath, encoding=\"utf8\")))\n",
    "\n",
    "device = torch.device(\"cuda\" if torch.cuda.is_available() else \"cpu\")\n",
    "\n",
    "def batchify(data, bsz):\n",
    "    # Divide the dataset into bsz parts.\n",
    "    nbatch = data.size(0) // bsz\n",
    "    # Trim off any extra elements that wouldn't cleanly fit (remainders).\n",
    "    data = data.narrow(0, 0, nbatch * bsz)\n",
    "    # Evenly divide the data across the bsz batches.\n",
    "    data = data.view(bsz, -1).t().contiguous()\n",
    "    return data.to(device)\n",
    "\n",
    "batch_size = 20\n",
    "eval_batch_size = 10\n",
    "train_data = batchify(train_data, batch_size)\n",
    "val_data = batchify(val_data, eval_batch_size)\n",
    "test_data = batchify(test_data, eval_batch_size)\n",
    "\n",
    "print(train_data.size())\n",
    "\n",
    "bptt = 35\n",
    "def get_batch(source, i):\n",
    "    seq_len = min(bptt, len(source) - 1 - i)\n",
    "    data = source[i:i+seq_len]\n",
    "    #target = source[i+1:i+1+seq_len].reshape(-1)\n",
    "    target = source[i+1:i+1+seq_len]\n",
    "    return data, target\n",
    "\n",
    "data, targets = get_batch(train_data, 0)\n",
    "print(data.size(), targets.size())\n",
    "print(data.T[0],'\\n', targets.reshape(data.size()).T[0])"
   ]
  },
  {
   "cell_type": "code",
   "execution_count": 4,
   "id": "guilty-southeast",
   "metadata": {},
   "outputs": [],
   "source": [
    "ntokens = len(vocab.stoi) # the size of vocabulary\n",
    "emsize = 200 # embedding dimension\n",
    "nhid = 200 # the dimension of the feedforward network model in nn.TransformerEncoder\n",
    "nlayers = 2 # the number of nn.TransformerEncoderLayer in nn.TransformerEncoder\n",
    "nhead = 2 # the number of heads in the multiheadattention models\n",
    "dropout = 0.2 # the dropout value\n",
    "#model = TransformerModel(ntokens, emsize, nhead, nhid, nlayers, dropout).to(device)\n",
    "d_memory = 200"
   ]
  },
  {
   "cell_type": "code",
   "execution_count": 5,
   "id": "approved-victim",
   "metadata": {},
   "outputs": [],
   "source": [
    "from chatbot import Chatbot\n",
    "model = Chatbot(ntokens, emsize, nhead, nhid, nlayers, d_memory, dropout).to(device)"
   ]
  },
  {
   "cell_type": "code",
   "execution_count": 6,
   "id": "considered-giant",
   "metadata": {},
   "outputs": [],
   "source": [
    "import torch. nn as nn\n",
    "criterion = nn.CrossEntropyLoss()\n",
    "lr = 5.0 # learning rate\n",
    "optimizer = torch.optim.SGD(model.parameters(), lr=lr)\n",
    "scheduler = torch.optim.lr_scheduler.StepLR(optimizer, 1.0, gamma=0.95)\n",
    "\n",
    "import math\n",
    "import time\n",
    "def train():\n",
    "    model.train() # Turn on the train mode\n",
    "    total_loss = 0.\n",
    "    start_time = time.time()\n",
    "    src_mask = model.generate_square_subsequent_mask(bptt).to(device)\n",
    "    for batch, i in enumerate(range(0, train_data.size(0) - 1, bptt)):\n",
    "        data, targets = get_batch(train_data, i)\n",
    "        optimizer.zero_grad()\n",
    "        if data.size(0) != bptt:\n",
    "            src_mask = model.generate_square_subsequent_mask(data.size(0)).to(device)\n",
    "        output = model(data, targets, src_mask)\n",
    "        #print(\"output.size() :\", output.size())\n",
    "        #print(\"output.view(-1, ntokens) :\", output.view(-1, ntokens).size())\n",
    "        #print(\"targets.size() :\", targets.size())\n",
    "        #print(\"targets.reshape(-1).size() :\", targets.reshape(-1).size())\n",
    "        \n",
    "        #loss = criterion(output.view(-1, ntokens), targets)\n",
    "        loss = criterion(output.view(-1, ntokens), targets.reshape(-1))\n",
    "        loss.backward()\n",
    "        torch.nn.utils.clip_grad_norm_(model.parameters(), 0.5)\n",
    "        optimizer.step()\n",
    "\n",
    "        total_loss += loss.item()\n",
    "        log_interval = 200\n",
    "        if batch % log_interval == 0 and batch > 0:\n",
    "            cur_loss = total_loss / log_interval\n",
    "            elapsed = time.time() - start_time\n",
    "            print('| epoch {:3d} | {:5d}/{:5d} batches | '\n",
    "                  'lr {:02.2f} | ms/batch {:5.2f} | '\n",
    "                  'loss {:5.2f} | ppl {:8.2f}'.format(\n",
    "                    epoch, batch, len(train_data) // bptt, scheduler.get_lr()[0],\n",
    "                    elapsed * 1000 / log_interval,\n",
    "                    cur_loss, math.exp(cur_loss)))\n",
    "            total_loss = 0\n",
    "            start_time = time.time()\n",
    "\n",
    "def evaluate(eval_model, data_source):\n",
    "    eval_model.eval() # Turn on the evaluation mode\n",
    "    total_loss = 0.\n",
    "    src_mask = model.generate_square_subsequent_mask(bptt).to(device)\n",
    "    with torch.no_grad():\n",
    "        for i in range(0, data_source.size(0) - 1, bptt):\n",
    "            data, targets = get_batch(data_source, i)\n",
    "            if data.size(0) != bptt:\n",
    "                src_mask = model.generate_square_subsequent_mask(data.size(0)).to(device)\n",
    "            output = eval_model(data, targets, src_mask)\n",
    "            output_flat = output.view(-1, ntokens)\n",
    "            total_loss += len(data) * criterion(output_flat, targets.reshape(-1)).item()\n",
    "    return total_loss / (len(data_source) - 1)"
   ]
  },
  {
   "cell_type": "code",
   "execution_count": 7,
   "id": "african-bennett",
   "metadata": {
    "scrolled": false
   },
   "outputs": [
    {
     "name": "stderr",
     "output_type": "stream",
     "text": [
      "/home/insublee/anaconda3/envs/chatbot/lib/python3.9/site-packages/torch/optim/lr_scheduler.py:369: UserWarning: To get the last learning rate computed by the scheduler, please use `get_last_lr()`.\n",
      "  warnings.warn(\"To get the last learning rate computed by the scheduler, \"\n"
     ]
    },
    {
     "name": "stdout",
     "output_type": "stream",
     "text": [
      "| epoch   1 |   200/ 2928 batches | lr 5.00 | ms/batch 30.96 | loss  2.59 | ppl    13.28\n",
      "| epoch   1 |   400/ 2928 batches | lr 5.00 | ms/batch 30.36 | loss  0.64 | ppl     1.90\n",
      "| epoch   1 |   600/ 2928 batches | lr 5.00 | ms/batch 29.70 | loss  0.39 | ppl     1.48\n",
      "| epoch   1 |   800/ 2928 batches | lr 5.00 | ms/batch 29.62 | loss  0.28 | ppl     1.32\n",
      "| epoch   1 |  1000/ 2928 batches | lr 5.00 | ms/batch 29.64 | loss  0.19 | ppl     1.21\n",
      "| epoch   1 |  1200/ 2928 batches | lr 5.00 | ms/batch 29.65 | loss  0.17 | ppl     1.18\n",
      "| epoch   1 |  1400/ 2928 batches | lr 5.00 | ms/batch 29.58 | loss  0.16 | ppl     1.18\n",
      "| epoch   1 |  1600/ 2928 batches | lr 5.00 | ms/batch 29.61 | loss  0.13 | ppl     1.14\n",
      "| epoch   1 |  1800/ 2928 batches | lr 5.00 | ms/batch 29.65 | loss  0.10 | ppl     1.10\n",
      "| epoch   1 |  2000/ 2928 batches | lr 5.00 | ms/batch 29.63 | loss  0.08 | ppl     1.08\n",
      "| epoch   1 |  2200/ 2928 batches | lr 5.00 | ms/batch 29.66 | loss  0.07 | ppl     1.07\n",
      "| epoch   1 |  2400/ 2928 batches | lr 5.00 | ms/batch 29.50 | loss  0.08 | ppl     1.08\n",
      "| epoch   1 |  2600/ 2928 batches | lr 5.00 | ms/batch 29.63 | loss  0.06 | ppl     1.06\n",
      "| epoch   1 |  2800/ 2928 batches | lr 5.00 | ms/batch 29.58 | loss  0.04 | ppl     1.05\n",
      "-----------------------------------------------------------------------------------------\n",
      "| end of epoch   1 | time: 90.49s | valid loss  0.00 | valid ppl     1.00\n",
      "-----------------------------------------------------------------------------------------\n",
      "| epoch   2 |   200/ 2928 batches | lr 4.51 | ms/batch 28.27 | loss  0.01 | ppl     1.01\n",
      "| epoch   2 |   400/ 2928 batches | lr 4.51 | ms/batch 26.83 | loss  0.00 | ppl     1.00\n",
      "| epoch   2 |   600/ 2928 batches | lr 4.51 | ms/batch 26.99 | loss  0.00 | ppl     1.00\n",
      "| epoch   2 |   800/ 2928 batches | lr 4.51 | ms/batch 29.62 | loss  0.00 | ppl     1.00\n",
      "| epoch   2 |  1000/ 2928 batches | lr 4.51 | ms/batch 29.52 | loss  0.00 | ppl     1.00\n",
      "| epoch   2 |  1200/ 2928 batches | lr 4.51 | ms/batch 29.53 | loss  0.00 | ppl     1.00\n",
      "| epoch   2 |  1400/ 2928 batches | lr 4.51 | ms/batch 29.59 | loss  0.00 | ppl     1.00\n",
      "| epoch   2 |  1600/ 2928 batches | lr 4.51 | ms/batch 29.80 | loss  0.00 | ppl     1.00\n",
      "| epoch   2 |  1800/ 2928 batches | lr 4.51 | ms/batch 29.75 | loss  0.00 | ppl     1.00\n",
      "| epoch   2 |  2000/ 2928 batches | lr 4.51 | ms/batch 29.65 | loss  0.00 | ppl     1.00\n",
      "| epoch   2 |  2200/ 2928 batches | lr 4.51 | ms/batch 29.74 | loss  0.00 | ppl     1.00\n",
      "| epoch   2 |  2400/ 2928 batches | lr 4.51 | ms/batch 29.72 | loss  0.00 | ppl     1.00\n",
      "| epoch   2 |  2600/ 2928 batches | lr 4.51 | ms/batch 29.62 | loss  0.00 | ppl     1.00\n",
      "| epoch   2 |  2800/ 2928 batches | lr 4.51 | ms/batch 29.82 | loss  0.00 | ppl     1.00\n",
      "-----------------------------------------------------------------------------------------\n",
      "| end of epoch   2 | time: 88.88s | valid loss  0.00 | valid ppl     1.00\n",
      "-----------------------------------------------------------------------------------------\n",
      "| epoch   3 |   200/ 2928 batches | lr 4.29 | ms/batch 28.85 | loss  0.00 | ppl     1.00\n",
      "| epoch   3 |   400/ 2928 batches | lr 4.29 | ms/batch 29.71 | loss  0.00 | ppl     1.00\n",
      "| epoch   3 |   600/ 2928 batches | lr 4.29 | ms/batch 29.71 | loss  0.00 | ppl     1.00\n",
      "| epoch   3 |   800/ 2928 batches | lr 4.29 | ms/batch 29.74 | loss  0.00 | ppl     1.00\n",
      "| epoch   3 |  1000/ 2928 batches | lr 4.29 | ms/batch 29.60 | loss  0.00 | ppl     1.00\n",
      "| epoch   3 |  1200/ 2928 batches | lr 4.29 | ms/batch 29.65 | loss  0.00 | ppl     1.00\n",
      "| epoch   3 |  1400/ 2928 batches | lr 4.29 | ms/batch 29.81 | loss  0.00 | ppl     1.00\n",
      "| epoch   3 |  1600/ 2928 batches | lr 4.29 | ms/batch 29.69 | loss  0.00 | ppl     1.00\n",
      "| epoch   3 |  1800/ 2928 batches | lr 4.29 | ms/batch 29.65 | loss  0.00 | ppl     1.00\n",
      "| epoch   3 |  2000/ 2928 batches | lr 4.29 | ms/batch 29.75 | loss  0.00 | ppl     1.00\n",
      "| epoch   3 |  2200/ 2928 batches | lr 4.29 | ms/batch 29.75 | loss  0.00 | ppl     1.00\n",
      "| epoch   3 |  2400/ 2928 batches | lr 4.29 | ms/batch 29.73 | loss  0.00 | ppl     1.00\n",
      "| epoch   3 |  2600/ 2928 batches | lr 4.29 | ms/batch 29.75 | loss  0.00 | ppl     1.00\n",
      "| epoch   3 |  2800/ 2928 batches | lr 4.29 | ms/batch 29.72 | loss  0.00 | ppl     1.00\n",
      "-----------------------------------------------------------------------------------------\n",
      "| end of epoch   3 | time: 90.21s | valid loss  0.00 | valid ppl     1.00\n",
      "-----------------------------------------------------------------------------------------\n"
     ]
    }
   ],
   "source": [
    "best_val_loss = float(\"inf\")\n",
    "epochs = 2 # The number of epochs\n",
    "best_model = None\n",
    "\n",
    "for epoch in range(1, epochs + 1):\n",
    "    epoch_start_time = time.time()\n",
    "    train()\n",
    "    val_loss = evaluate(model, val_data)\n",
    "    print('-' * 89)\n",
    "    print('| end of epoch {:3d} | time: {:5.2f}s | valid loss {:5.2f} | '\n",
    "          'valid ppl {:8.2f}'.format(epoch, (time.time() - epoch_start_time),\n",
    "                                     val_loss, math.exp(val_loss)))\n",
    "    print('-' * 89)\n",
    "\n",
    "    if val_loss < best_val_loss:\n",
    "        best_val_loss = val_loss\n",
    "        best_model = model\n",
    "\n",
    "    scheduler.step()"
   ]
  }
 ],
 "metadata": {
  "kernelspec": {
   "display_name": "Python 3",
   "language": "python",
   "name": "python3"
  },
  "language_info": {
   "codemirror_mode": {
    "name": "ipython",
    "version": 3
   },
   "file_extension": ".py",
   "mimetype": "text/x-python",
   "name": "python",
   "nbconvert_exporter": "python",
   "pygments_lexer": "ipython3",
   "version": "3.9.1"
  }
 },
 "nbformat": 4,
 "nbformat_minor": 5
}
