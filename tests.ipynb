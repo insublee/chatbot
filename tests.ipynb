{
 "cells": [
  {
   "cell_type": "code",
   "execution_count": 1,
   "id": "psychological-yacht",
   "metadata": {},
   "outputs": [],
   "source": [
    "from args import args\n",
    "hparams = args()"
   ]
  },
  {
   "cell_type": "code",
   "execution_count": 2,
   "id": "minor-tuesday",
   "metadata": {
    "scrolled": true
   },
   "outputs": [
    {
     "name": "stderr",
     "output_type": "stream",
     "text": [
      "Some weights of ChatbotModel were not initialized from the model checkpoint at facebook/bart-base and are newly initialized: ['encoder.encoder.embed_tokens.weight', 'encoder.encoder.embed_positions.weight', 'encoder.encoder.layers.0.self_attn.k_proj.weight', 'encoder.encoder.layers.0.self_attn.k_proj.bias', 'encoder.encoder.layers.0.self_attn.v_proj.weight', 'encoder.encoder.layers.0.self_attn.v_proj.bias', 'encoder.encoder.layers.0.self_attn.q_proj.weight', 'encoder.encoder.layers.0.self_attn.q_proj.bias', 'encoder.encoder.layers.0.self_attn.out_proj.weight', 'encoder.encoder.layers.0.self_attn.out_proj.bias', 'encoder.encoder.layers.0.self_attn_layer_norm.weight', 'encoder.encoder.layers.0.self_attn_layer_norm.bias', 'encoder.encoder.layers.0.fc1.weight', 'encoder.encoder.layers.0.fc1.bias', 'encoder.encoder.layers.0.fc2.weight', 'encoder.encoder.layers.0.fc2.bias', 'encoder.encoder.layers.0.final_layer_norm.weight', 'encoder.encoder.layers.0.final_layer_norm.bias', 'encoder.encoder.layers.1.self_attn.k_proj.weight', 'encoder.encoder.layers.1.self_attn.k_proj.bias', 'encoder.encoder.layers.1.self_attn.v_proj.weight', 'encoder.encoder.layers.1.self_attn.v_proj.bias', 'encoder.encoder.layers.1.self_attn.q_proj.weight', 'encoder.encoder.layers.1.self_attn.q_proj.bias', 'encoder.encoder.layers.1.self_attn.out_proj.weight', 'encoder.encoder.layers.1.self_attn.out_proj.bias', 'encoder.encoder.layers.1.self_attn_layer_norm.weight', 'encoder.encoder.layers.1.self_attn_layer_norm.bias', 'encoder.encoder.layers.1.fc1.weight', 'encoder.encoder.layers.1.fc1.bias', 'encoder.encoder.layers.1.fc2.weight', 'encoder.encoder.layers.1.fc2.bias', 'encoder.encoder.layers.1.final_layer_norm.weight', 'encoder.encoder.layers.1.final_layer_norm.bias', 'encoder.encoder.layers.2.self_attn.k_proj.weight', 'encoder.encoder.layers.2.self_attn.k_proj.bias', 'encoder.encoder.layers.2.self_attn.v_proj.weight', 'encoder.encoder.layers.2.self_attn.v_proj.bias', 'encoder.encoder.layers.2.self_attn.q_proj.weight', 'encoder.encoder.layers.2.self_attn.q_proj.bias', 'encoder.encoder.layers.2.self_attn.out_proj.weight', 'encoder.encoder.layers.2.self_attn.out_proj.bias', 'encoder.encoder.layers.2.self_attn_layer_norm.weight', 'encoder.encoder.layers.2.self_attn_layer_norm.bias', 'encoder.encoder.layers.2.fc1.weight', 'encoder.encoder.layers.2.fc1.bias', 'encoder.encoder.layers.2.fc2.weight', 'encoder.encoder.layers.2.fc2.bias', 'encoder.encoder.layers.2.final_layer_norm.weight', 'encoder.encoder.layers.2.final_layer_norm.bias', 'encoder.encoder.layers.3.self_attn.k_proj.weight', 'encoder.encoder.layers.3.self_attn.k_proj.bias', 'encoder.encoder.layers.3.self_attn.v_proj.weight', 'encoder.encoder.layers.3.self_attn.v_proj.bias', 'encoder.encoder.layers.3.self_attn.q_proj.weight', 'encoder.encoder.layers.3.self_attn.q_proj.bias', 'encoder.encoder.layers.3.self_attn.out_proj.weight', 'encoder.encoder.layers.3.self_attn.out_proj.bias', 'encoder.encoder.layers.3.self_attn_layer_norm.weight', 'encoder.encoder.layers.3.self_attn_layer_norm.bias', 'encoder.encoder.layers.3.fc1.weight', 'encoder.encoder.layers.3.fc1.bias', 'encoder.encoder.layers.3.fc2.weight', 'encoder.encoder.layers.3.fc2.bias', 'encoder.encoder.layers.3.final_layer_norm.weight', 'encoder.encoder.layers.3.final_layer_norm.bias', 'encoder.encoder.layers.4.self_attn.k_proj.weight', 'encoder.encoder.layers.4.self_attn.k_proj.bias', 'encoder.encoder.layers.4.self_attn.v_proj.weight', 'encoder.encoder.layers.4.self_attn.v_proj.bias', 'encoder.encoder.layers.4.self_attn.q_proj.weight', 'encoder.encoder.layers.4.self_attn.q_proj.bias', 'encoder.encoder.layers.4.self_attn.out_proj.weight', 'encoder.encoder.layers.4.self_attn.out_proj.bias', 'encoder.encoder.layers.4.self_attn_layer_norm.weight', 'encoder.encoder.layers.4.self_attn_layer_norm.bias', 'encoder.encoder.layers.4.fc1.weight', 'encoder.encoder.layers.4.fc1.bias', 'encoder.encoder.layers.4.fc2.weight', 'encoder.encoder.layers.4.fc2.bias', 'encoder.encoder.layers.4.final_layer_norm.weight', 'encoder.encoder.layers.4.final_layer_norm.bias', 'encoder.encoder.layers.5.self_attn.k_proj.weight', 'encoder.encoder.layers.5.self_attn.k_proj.bias', 'encoder.encoder.layers.5.self_attn.v_proj.weight', 'encoder.encoder.layers.5.self_attn.v_proj.bias', 'encoder.encoder.layers.5.self_attn.q_proj.weight', 'encoder.encoder.layers.5.self_attn.q_proj.bias', 'encoder.encoder.layers.5.self_attn.out_proj.weight', 'encoder.encoder.layers.5.self_attn.out_proj.bias', 'encoder.encoder.layers.5.self_attn_layer_norm.weight', 'encoder.encoder.layers.5.self_attn_layer_norm.bias', 'encoder.encoder.layers.5.fc1.weight', 'encoder.encoder.layers.5.fc1.bias', 'encoder.encoder.layers.5.fc2.weight', 'encoder.encoder.layers.5.fc2.bias', 'encoder.encoder.layers.5.final_layer_norm.weight', 'encoder.encoder.layers.5.final_layer_norm.bias', 'encoder.encoder.layernorm_embedding.weight', 'encoder.encoder.layernorm_embedding.bias', 'decoder.embed_tokens.weight', 'decoder.embed_positions.weight', 'decoder.layers.0.self_attn.k_proj.weight', 'decoder.layers.0.self_attn.k_proj.bias', 'decoder.layers.0.self_attn.v_proj.weight', 'decoder.layers.0.self_attn.v_proj.bias', 'decoder.layers.0.self_attn.q_proj.weight', 'decoder.layers.0.self_attn.q_proj.bias', 'decoder.layers.0.self_attn.out_proj.weight', 'decoder.layers.0.self_attn.out_proj.bias', 'decoder.layers.0.self_attn_layer_norm.weight', 'decoder.layers.0.self_attn_layer_norm.bias', 'decoder.layers.0.encoder_attn.k_proj.weight', 'decoder.layers.0.encoder_attn.k_proj.bias', 'decoder.layers.0.encoder_attn.v_proj.weight', 'decoder.layers.0.encoder_attn.v_proj.bias', 'decoder.layers.0.encoder_attn.q_proj.weight', 'decoder.layers.0.encoder_attn.q_proj.bias', 'decoder.layers.0.encoder_attn.out_proj.weight', 'decoder.layers.0.encoder_attn.out_proj.bias', 'decoder.layers.0.encoder_attn_layer_norm.weight', 'decoder.layers.0.encoder_attn_layer_norm.bias', 'decoder.layers.0.fc1.weight', 'decoder.layers.0.fc1.bias', 'decoder.layers.0.fc2.weight', 'decoder.layers.0.fc2.bias', 'decoder.layers.0.final_layer_norm.weight', 'decoder.layers.0.final_layer_norm.bias', 'decoder.layers.1.self_attn.k_proj.weight', 'decoder.layers.1.self_attn.k_proj.bias', 'decoder.layers.1.self_attn.v_proj.weight', 'decoder.layers.1.self_attn.v_proj.bias', 'decoder.layers.1.self_attn.q_proj.weight', 'decoder.layers.1.self_attn.q_proj.bias', 'decoder.layers.1.self_attn.out_proj.weight', 'decoder.layers.1.self_attn.out_proj.bias', 'decoder.layers.1.self_attn_layer_norm.weight', 'decoder.layers.1.self_attn_layer_norm.bias', 'decoder.layers.1.encoder_attn.k_proj.weight', 'decoder.layers.1.encoder_attn.k_proj.bias', 'decoder.layers.1.encoder_attn.v_proj.weight', 'decoder.layers.1.encoder_attn.v_proj.bias', 'decoder.layers.1.encoder_attn.q_proj.weight', 'decoder.layers.1.encoder_attn.q_proj.bias', 'decoder.layers.1.encoder_attn.out_proj.weight', 'decoder.layers.1.encoder_attn.out_proj.bias', 'decoder.layers.1.encoder_attn_layer_norm.weight', 'decoder.layers.1.encoder_attn_layer_norm.bias', 'decoder.layers.1.fc1.weight', 'decoder.layers.1.fc1.bias', 'decoder.layers.1.fc2.weight', 'decoder.layers.1.fc2.bias', 'decoder.layers.1.final_layer_norm.weight', 'decoder.layers.1.final_layer_norm.bias', 'decoder.layers.2.self_attn.k_proj.weight', 'decoder.layers.2.self_attn.k_proj.bias', 'decoder.layers.2.self_attn.v_proj.weight', 'decoder.layers.2.self_attn.v_proj.bias', 'decoder.layers.2.self_attn.q_proj.weight', 'decoder.layers.2.self_attn.q_proj.bias', 'decoder.layers.2.self_attn.out_proj.weight', 'decoder.layers.2.self_attn.out_proj.bias', 'decoder.layers.2.self_attn_layer_norm.weight', 'decoder.layers.2.self_attn_layer_norm.bias', 'decoder.layers.2.encoder_attn.k_proj.weight', 'decoder.layers.2.encoder_attn.k_proj.bias', 'decoder.layers.2.encoder_attn.v_proj.weight', 'decoder.layers.2.encoder_attn.v_proj.bias', 'decoder.layers.2.encoder_attn.q_proj.weight', 'decoder.layers.2.encoder_attn.q_proj.bias', 'decoder.layers.2.encoder_attn.out_proj.weight', 'decoder.layers.2.encoder_attn.out_proj.bias', 'decoder.layers.2.encoder_attn_layer_norm.weight', 'decoder.layers.2.encoder_attn_layer_norm.bias', 'decoder.layers.2.fc1.weight', 'decoder.layers.2.fc1.bias', 'decoder.layers.2.fc2.weight', 'decoder.layers.2.fc2.bias', 'decoder.layers.2.final_layer_norm.weight', 'decoder.layers.2.final_layer_norm.bias', 'decoder.layers.3.self_attn.k_proj.weight', 'decoder.layers.3.self_attn.k_proj.bias', 'decoder.layers.3.self_attn.v_proj.weight', 'decoder.layers.3.self_attn.v_proj.bias', 'decoder.layers.3.self_attn.q_proj.weight', 'decoder.layers.3.self_attn.q_proj.bias', 'decoder.layers.3.self_attn.out_proj.weight', 'decoder.layers.3.self_attn.out_proj.bias', 'decoder.layers.3.self_attn_layer_norm.weight', 'decoder.layers.3.self_attn_layer_norm.bias', 'decoder.layers.3.encoder_attn.k_proj.weight', 'decoder.layers.3.encoder_attn.k_proj.bias', 'decoder.layers.3.encoder_attn.v_proj.weight', 'decoder.layers.3.encoder_attn.v_proj.bias', 'decoder.layers.3.encoder_attn.q_proj.weight', 'decoder.layers.3.encoder_attn.q_proj.bias', 'decoder.layers.3.encoder_attn.out_proj.weight', 'decoder.layers.3.encoder_attn.out_proj.bias', 'decoder.layers.3.encoder_attn_layer_norm.weight', 'decoder.layers.3.encoder_attn_layer_norm.bias', 'decoder.layers.3.fc1.weight', 'decoder.layers.3.fc1.bias', 'decoder.layers.3.fc2.weight', 'decoder.layers.3.fc2.bias', 'decoder.layers.3.final_layer_norm.weight', 'decoder.layers.3.final_layer_norm.bias', 'decoder.layers.4.self_attn.k_proj.weight', 'decoder.layers.4.self_attn.k_proj.bias', 'decoder.layers.4.self_attn.v_proj.weight', 'decoder.layers.4.self_attn.v_proj.bias', 'decoder.layers.4.self_attn.q_proj.weight', 'decoder.layers.4.self_attn.q_proj.bias', 'decoder.layers.4.self_attn.out_proj.weight', 'decoder.layers.4.self_attn.out_proj.bias', 'decoder.layers.4.self_attn_layer_norm.weight', 'decoder.layers.4.self_attn_layer_norm.bias', 'decoder.layers.4.encoder_attn.k_proj.weight', 'decoder.layers.4.encoder_attn.k_proj.bias', 'decoder.layers.4.encoder_attn.v_proj.weight', 'decoder.layers.4.encoder_attn.v_proj.bias', 'decoder.layers.4.encoder_attn.q_proj.weight', 'decoder.layers.4.encoder_attn.q_proj.bias', 'decoder.layers.4.encoder_attn.out_proj.weight', 'decoder.layers.4.encoder_attn.out_proj.bias', 'decoder.layers.4.encoder_attn_layer_norm.weight', 'decoder.layers.4.encoder_attn_layer_norm.bias', 'decoder.layers.4.fc1.weight', 'decoder.layers.4.fc1.bias', 'decoder.layers.4.fc2.weight', 'decoder.layers.4.fc2.bias', 'decoder.layers.4.final_layer_norm.weight', 'decoder.layers.4.final_layer_norm.bias', 'decoder.layers.5.self_attn.k_proj.weight', 'decoder.layers.5.self_attn.k_proj.bias', 'decoder.layers.5.self_attn.v_proj.weight', 'decoder.layers.5.self_attn.v_proj.bias', 'decoder.layers.5.self_attn.q_proj.weight', 'decoder.layers.5.self_attn.q_proj.bias', 'decoder.layers.5.self_attn.out_proj.weight', 'decoder.layers.5.self_attn.out_proj.bias', 'decoder.layers.5.self_attn_layer_norm.weight', 'decoder.layers.5.self_attn_layer_norm.bias', 'decoder.layers.5.encoder_attn.k_proj.weight', 'decoder.layers.5.encoder_attn.k_proj.bias', 'decoder.layers.5.encoder_attn.v_proj.weight', 'decoder.layers.5.encoder_attn.v_proj.bias', 'decoder.layers.5.encoder_attn.q_proj.weight', 'decoder.layers.5.encoder_attn.q_proj.bias', 'decoder.layers.5.encoder_attn.out_proj.weight', 'decoder.layers.5.encoder_attn.out_proj.bias', 'decoder.layers.5.encoder_attn_layer_norm.weight', 'decoder.layers.5.encoder_attn_layer_norm.bias', 'decoder.layers.5.fc1.weight', 'decoder.layers.5.fc1.bias', 'decoder.layers.5.fc2.weight', 'decoder.layers.5.fc2.bias', 'decoder.layers.5.final_layer_norm.weight', 'decoder.layers.5.final_layer_norm.bias', 'decoder.layernorm_embedding.weight', 'decoder.layernorm_embedding.bias', 'long_term_memory.values', 'long_term_memory.values_var', 'long_term_memory.age', 'selector.fc_pi_1.weight', 'selector.fc_pi_1.bias', 'selector.fc_pi_2.weight', 'selector.fc_pi_2.bias', 'selector.fc_v_1.weight', 'selector.fc_v_1.bias', 'selector.fc_v_2.weight', 'selector.fc_v_2.bias', 'sentiment_model.embedding.weight', 'sentiment_model.convs.0.weight', 'sentiment_model.convs.0.bias', 'sentiment_model.convs.1.weight', 'sentiment_model.convs.1.bias', 'sentiment_model.convs.2.weight', 'sentiment_model.convs.2.bias', 'sentiment_model.fc.weight', 'sentiment_model.fc.bias']\n",
      "You should probably TRAIN this model on a down-stream task to be able to use it for predictions and inference.\n"
     ]
    }
   ],
   "source": [
    "from chatbot import Chatbot\n",
    "chatbot = Chatbot(hparams)"
   ]
  },
  {
   "cell_type": "code",
   "execution_count": 3,
   "id": "cultural-bicycle",
   "metadata": {},
   "outputs": [
    {
     "data": {
      "application/vnd.jupyter.widget-view+json": {
       "model_id": "f57fa742c6be49df8c9683ae65ffe0e5",
       "version_major": 2,
       "version_minor": 0
      },
      "text/plain": [
       "  0%|          | 0/17878 [00:00<?, ?it/s]"
      ]
     },
     "metadata": {},
     "output_type": "display_data"
    },
    {
     "data": {
      "application/vnd.jupyter.widget-view+json": {
       "model_id": "c41021558b1140aa836d1086e73bbc5d",
       "version_major": 2,
       "version_minor": 0
      },
      "text/plain": [
       "  0%|          | 0/1000 [00:00<?, ?it/s]"
      ]
     },
     "metadata": {},
     "output_type": "display_data"
    },
    {
     "name": "stderr",
     "output_type": "stream",
     "text": [
      "/home/insublee/anaconda3/envs/chatbot/lib/python3.7/site-packages/transformers/tokenization_utils_base.py:2155: FutureWarning: The `pad_to_max_length` argument is deprecated and will be removed in a future version, use `padding=True` or `padding='longest'` to pad to the longest sequence in the batch, or use `padding='max_length'` to pad to a max length. In this case, you can give a specific length with `max_length` (e.g. `max_length=45`) or leave max_length to None to pad to the maximal input size of the model (e.g. 512 for Bert).\n",
      "  FutureWarning,\n"
     ]
    },
    {
     "data": {
      "application/vnd.jupyter.widget-view+json": {
       "model_id": "4cf3f3316bd844889be1399304466e38",
       "version_major": 2,
       "version_minor": 0
      },
      "text/plain": [
       "  0%|          | 0/105 [00:00<?, ?ba/s]"
      ]
     },
     "metadata": {},
     "output_type": "display_data"
    },
    {
     "data": {
      "application/vnd.jupyter.widget-view+json": {
       "model_id": "be17f5d65a9f4087b819b7e47005e73a",
       "version_major": 2,
       "version_minor": 0
      },
      "text/plain": [
       "  0%|          | 0/7 [00:00<?, ?ba/s]"
      ]
     },
     "metadata": {},
     "output_type": "display_data"
    }
   ],
   "source": [
    "from chatbot.data import DataModule\n",
    "dm = DataModule(hparams)\n",
    "dm.prepare_data()\n",
    "dm.setup('fit')"
   ]
  },
  {
   "cell_type": "code",
   "execution_count": 4,
   "id": "caroline-stack",
   "metadata": {},
   "outputs": [
    {
     "name": "stdout",
     "output_type": "stream",
     "text": [
      "attention_mask torch.Size([16, 64])\n",
      "decoder_attention_mask torch.Size([16, 64])\n",
      "decoder_input_ids torch.Size([16, 64])\n",
      "input_ids torch.Size([16, 64])\n",
      "labels torch.Size([16, 64])\n",
      "next_state_attention_mask torch.Size([16, 64])\n",
      "next_state_input_ids torch.Size([16, 64])\n"
     ]
    }
   ],
   "source": [
    "# data check\n",
    "batch = next(iter(dm.train_dataloader()))\n",
    "for i in batch.keys():\n",
    "    print(i, batch[i].size())"
   ]
  },
  {
   "cell_type": "code",
   "execution_count": 5,
   "id": "round-radical",
   "metadata": {
    "scrolled": true
   },
   "outputs": [
    {
     "name": "stdout",
     "output_type": "stream",
     "text": [
      "odict_keys(['loss', 'logits', 'past_key_values', 'encoder_last_hidden_state'])\n"
     ]
    }
   ],
   "source": [
    "# forward test\n",
    "forward_out = chatbot(**batch)\n",
    "print(forward_out.keys()) # odict_keys(['loss', 'logits', 'past_key_values', 'encoder_last_hidden_state'])"
   ]
  },
  {
   "cell_type": "code",
   "execution_count": 6,
   "id": "diagnostic-virtue",
   "metadata": {},
   "outputs": [
    {
     "name": "stderr",
     "output_type": "stream",
     "text": [
      "/home/insublee/anaconda3/envs/chatbot/lib/python3.7/site-packages/torch/nn/functional.py:1351: UserWarning: nn.functional.sigmoid is deprecated. Use torch.sigmoid instead.\n",
      "  warnings.warn(\"nn.functional.sigmoid is deprecated. Use torch.sigmoid instead.\")\n"
     ]
    },
    {
     "name": "stdout",
     "output_type": "stream",
     "text": [
      "tensor(33.7003, grad_fn=<AddBackward0>)\n"
     ]
    }
   ],
   "source": [
    "# training step test\n",
    "loss = chatbot.training_step(batch,0)\n",
    "print(loss) # tensor(14.2616, grad_fn=<AddBackward0>)"
   ]
  },
  {
   "cell_type": "code",
   "execution_count": 7,
   "id": "casual-telescope",
   "metadata": {
    "scrolled": true
   },
   "outputs": [
    {
     "name": "stdout",
     "output_type": "stream",
     "text": [
      "{'loss': tensor(14.2776, grad_fn=<NllLossBackward>), 'bleu': 0.19241010443021755}\n"
     ]
    }
   ],
   "source": [
    "# validation step test\n",
    "loss = chatbot.validation_step(batch,0)\n",
    "print(loss) # tensor(14.2616, grad_fn=<AddBackward0>)"
   ]
  },
  {
   "cell_type": "code",
   "execution_count": 8,
   "id": "preceding-custom",
   "metadata": {
    "scrolled": true
   },
   "outputs": [
    {
     "name": "stdout",
     "output_type": "stream",
     "text": [
      "Generated: A few weeks ago, I wrote an article about how I would like to see my grandchildren grow up. Today, I am pleased to report that my grandchildren are growing up. I am\n"
     ]
    }
   ],
   "source": [
    "# generation test1. no input\n",
    "#outputs = chatbot.model.generate(max_length=40)\n",
    "#print(\"Generated:\", dm.tokenizer.decode(outputs[0], skip_special_tokens=True))\n",
    "generated = chatbot.response()\n",
    "print(\"Generated:\", generated)"
   ]
  },
  {
   "cell_type": "code",
   "execution_count": 9,
   "id": "varying-details",
   "metadata": {},
   "outputs": [
    {
     "name": "stdout",
     "output_type": "stream",
     "text": [
      "Generated: This is the first time in a long time that I have ever seen anything resembling an actual person. The second time was when I was a teenager. This time around, however, I\n"
     ]
    }
   ],
   "source": [
    "# generation test2. yes input\n",
    "input_text = \"hello my name is insub, and\"\n",
    "generated = chatbot.response(input_text)\n",
    "print(\"Generated:\", generated)"
   ]
  },
  {
   "cell_type": "code",
   "execution_count": 10,
   "id": "invisible-supervisor",
   "metadata": {
    "scrolled": false
   },
   "outputs": [
    {
     "name": "stderr",
     "output_type": "stream",
     "text": [
      "GPU available: True, used: True\n",
      "TPU available: None, using: 0 TPU cores\n",
      "\n",
      "  | Name  | Type         | Params\n",
      "---------------------------------------\n",
      "0 | model | ChatbotModel | 153 M \n",
      "---------------------------------------\n",
      "152 M     Trainable params\n",
      "1.5 M     Non-trainable params\n",
      "153 M     Total params\n",
      "615.741   Total estimated model params size (MB)\n"
     ]
    },
    {
     "data": {
      "application/vnd.jupyter.widget-view+json": {
       "model_id": "",
       "version_major": 2,
       "version_minor": 0
      },
      "text/plain": [
       "Validation sanity check: 0it [00:00, ?it/s]"
      ]
     },
     "metadata": {},
     "output_type": "display_data"
    },
    {
     "data": {
      "application/vnd.jupyter.widget-view+json": {
       "model_id": "2e22e284e420461894a8377e3481254e",
       "version_major": 2,
       "version_minor": 0
      },
      "text/plain": [
       "Training: 0it [00:00, ?it/s]"
      ]
     },
     "metadata": {},
     "output_type": "display_data"
    },
    {
     "name": "stderr",
     "output_type": "stream",
     "text": [
      "/home/insublee/anaconda3/envs/chatbot/lib/python3.7/site-packages/pytorch_lightning/utilities/distributed.py:50: UserWarning: Detected KeyboardInterrupt, attempting graceful shutdown...\n",
      "  warnings.warn(*args, **kwargs)\n"
     ]
    },
    {
     "data": {
      "text/plain": [
       "1"
      ]
     },
     "execution_count": 10,
     "metadata": {},
     "output_type": "execute_result"
    }
   ],
   "source": [
    "import pytorch_lightning as pl\n",
    "# trainer loading and fit\n",
    "#trainer = pl.Trainer(gpus=-1, auto_select_gpus=True)\n",
    "#trainer = pl.Trainer(gpus=4, accelerator='ddp2')\n",
    "#trainer = pl.Trainer(gpus=1, max_epochs=2)\n",
    "trainer = pl.Trainer(gpus=1, max_epochs=1)\n",
    "trainer.fit(chatbot, dm)"
   ]
  },
  {
   "cell_type": "code",
   "execution_count": 11,
   "id": "assumed-twins",
   "metadata": {},
   "outputs": [
    {
     "name": "stdout",
     "output_type": "stream",
     "text": [
      "Generated: In addition, there was also a segment of the public interest community known as Skyline, which is known known as the \" \"A\").As far as technically speaking is concerned, we\n"
     ]
    }
   ],
   "source": [
    "# generation test3. after training no input\n",
    "outputs = chatbot.model.generate(max_length=40)\n",
    "print(\"Generated:\", dm.tokenizer.decode(outputs[0], skip_special_tokens=True))"
   ]
  },
  {
   "cell_type": "code",
   "execution_count": 12,
   "id": "medieval-soccer",
   "metadata": {},
   "outputs": [
    {
     "name": "stdout",
     "output_type": "stream",
     "text": [
      "Generated: In neutral neutral neutral neutral to neutral to good solid solid solid base base in Western Europe, and neutral neutral in central Europe and neutral in to neutral in- neutral to the neutral neutral\n"
     ]
    }
   ],
   "source": [
    "# generation test4. after training yes input\n",
    "input_text = \"hi , how are you doing ? i'm getting ready to do some cheetah chasing to stay in shape .\"\n",
    "tokenized_text = dm.tokenizer([input_text], return_tensors=\"pt\").input_ids\n",
    "outputs = chatbot.model.generate(input_ids=tokenized_text, max_length=40)\n",
    "print(\"Generated:\", dm.tokenizer.decode(outputs[0], skip_special_tokens=True))"
   ]
  }
 ],
 "metadata": {
  "kernelspec": {
   "display_name": "Python 3",
   "language": "python",
   "name": "python3"
  },
  "language_info": {
   "codemirror_mode": {
    "name": "ipython",
    "version": 3
   },
   "file_extension": ".py",
   "mimetype": "text/x-python",
   "name": "python",
   "nbconvert_exporter": "python",
   "pygments_lexer": "ipython3",
   "version": "3.7.10"
  }
 },
 "nbformat": 4,
 "nbformat_minor": 5
}
