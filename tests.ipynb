{
 "cells": [
  {
   "cell_type": "code",
   "execution_count": 1,
   "id": "accepted-disaster",
   "metadata": {},
   "outputs": [],
   "source": [
    "import argparse\n",
    "\n",
    "hparams = argparse.Namespace()\n",
    "hparams.eval_beams: int  = 4\n",
    "hparams.learning_rate: float = 2e-5\n",
    "hparams.adam_epsilon: float = 1e-8\n",
    "hparams.warmup_steps: int = 0\n",
    "hparams.weight_decay: float = 0.0\n",
    "hparams.max_epochs: int = 1\n",
    "hparams.gpus: int = 1\n",
    "hparams.train_batch_size: int = 16\n",
    "hparams.eval_batch_size: int = 16\n",
    "hparams.accumulate_grad_batches: int = 1\n",
    "hparams.early_stopping: bool =True\n",
    "    \n",
    "hparams.max_seq_length: int = 64\n",
    "hparams.LongTermMemory_size :int = 1000\n",
    "hparams.age_noise:float = 4.0\n",
    "hparams.reward_scaling_factor:float = 10.0\n",
    "hparams.reward_age_base:float = 10.0\n",
    "hparams.age_discount:float = 1.0\n",
    "hparams.hit_th:float = 0.9\n",
    "hparams.max_seq_length : int = 64\n",
    "hparams.max_dialogue_length: int = 3\n",
    "    \n",
    "hparams.gamma : float= 0.98\n",
    "    \n",
    "hparams.EMBEDDING_DIM:int = 100\n",
    "hparams.N_FILTERS:int = 100\n",
    "hparams.FILTER_SIZES = [3, 5, 7]\n",
    "hparams.MIN_LENGTH:int = 7\n",
    "hparams.OUTPUT_DIM:int = 1\n",
    "hparams.DROPOUT:float = 0.5"
   ]
  },
  {
   "cell_type": "code",
   "execution_count": 2,
   "id": "blessed-going",
   "metadata": {
    "collapsed": true
   },
   "outputs": [
    {
     "ename": "RuntimeError",
     "evalue": "version_ <= kMaxSupportedFileFormatVersion INTERNAL ASSERT FAILED at /tmp/pip-req-build-ufslq_a9/caffe2/serialize/inline_container.cc:132, please report a bug to PyTorch. Attempted to read a PyTorch file with version 3, but the maximum supported version for reading is 2. Your PyTorch installation may be too old. (init at /tmp/pip-req-build-ufslq_a9/caffe2/serialize/inline_container.cc:132)\nframe #0: c10::Error::Error(c10::SourceLocation, std::__cxx11::basic_string<char, std::char_traits<char>, std::allocator<char> > const&) + 0x6d (0x7f262037d2ad in /home/insublee/anaconda3/envs/chatbot/lib/python3.7/site-packages/torch/lib/libc10.so)\nframe #1: caffe2::serialize::PyTorchStreamReader::init() + 0x25db (0x7f25f018aa1b in /home/insublee/anaconda3/envs/chatbot/lib/python3.7/site-packages/torch/lib/libtorch.so)\nframe #2: caffe2::serialize::PyTorchStreamReader::PyTorchStreamReader(std::__cxx11::basic_string<char, std::char_traits<char>, std::allocator<char> > const&) + 0x7b (0x7f25f018bf2b in /home/insublee/anaconda3/envs/chatbot/lib/python3.7/site-packages/torch/lib/libtorch.so)\nframe #3: <unknown function> + 0x6b237b (0x7f2620a8437b in /home/insublee/anaconda3/envs/chatbot/lib/python3.7/site-packages/torch/lib/libtorch_python.so)\nframe #4: <unknown function> + 0x158006 (0x7f262052a006 in /home/insublee/anaconda3/envs/chatbot/lib/python3.7/site-packages/torch/lib/libtorch_python.so)\nframe #5: _PyMethodDef_RawFastCallDict + 0x24d (0x55986b18e63d in /home/insublee/anaconda3/envs/chatbot/bin/python)\nframe #6: _PyCFunction_FastCallDict + 0x21 (0x55986b18e7c1 in /home/insublee/anaconda3/envs/chatbot/bin/python)\nframe #7: _PyObject_Call_Prepend + 0x63 (0x55986b18c7a3 in /home/insublee/anaconda3/envs/chatbot/bin/python)\nframe #8: PyObject_Call + 0x6e (0x55986b17f3ae in /home/insublee/anaconda3/envs/chatbot/bin/python)\nframe #9: <unknown function> + 0x9e9dc (0x55986b0f69dc in /home/insublee/anaconda3/envs/chatbot/bin/python)\nframe #10: _PyObject_FastCallKeywords + 0x128 (0x55986b1c4938 in /home/insublee/anaconda3/envs/chatbot/bin/python)\nframe #11: _PyEval_EvalFrameDefault + 0x522e (0x55986b22a27e in /home/insublee/anaconda3/envs/chatbot/bin/python)\nframe #12: _PyEval_EvalCodeWithName + 0x5da (0x55986b16cfea in /home/insublee/anaconda3/envs/chatbot/bin/python)\nframe #13: _PyFunction_FastCallDict + 0x1d5 (0x55986b16ddf5 in /home/insublee/anaconda3/envs/chatbot/bin/python)\nframe #14: _PyObject_Call_Prepend + 0x63 (0x55986b18c7a3 in /home/insublee/anaconda3/envs/chatbot/bin/python)\nframe #15: <unknown function> + 0x16bd2a (0x55986b1c3d2a in /home/insublee/anaconda3/envs/chatbot/bin/python)\nframe #16: _PyObject_FastCallKeywords + 0x128 (0x55986b1c4938 in /home/insublee/anaconda3/envs/chatbot/bin/python)\nframe #17: _PyEval_EvalFrameDefault + 0x49f6 (0x55986b229a46 in /home/insublee/anaconda3/envs/chatbot/bin/python)\nframe #18: _PyEval_EvalCodeWithName + 0x2f9 (0x55986b16cd09 in /home/insublee/anaconda3/envs/chatbot/bin/python)\nframe #19: _PyFunction_FastCallKeywords + 0x387 (0x55986b1bd0b7 in /home/insublee/anaconda3/envs/chatbot/bin/python)\nframe #20: _PyEval_EvalFrameDefault + 0x4a99 (0x55986b229ae9 in /home/insublee/anaconda3/envs/chatbot/bin/python)\nframe #21: _PyEval_EvalCodeWithName + 0x5da (0x55986b16cfea in /home/insublee/anaconda3/envs/chatbot/bin/python)\nframe #22: _PyFunction_FastCallDict + 0x3ff (0x55986b16e01f in /home/insublee/anaconda3/envs/chatbot/bin/python)\nframe #23: _PyObject_Call_Prepend + 0x63 (0x55986b18c7a3 in /home/insublee/anaconda3/envs/chatbot/bin/python)\nframe #24: <unknown function> + 0x16bd2a (0x55986b1c3d2a in /home/insublee/anaconda3/envs/chatbot/bin/python)\nframe #25: <unknown function> + 0x16c6d7 (0x55986b1c46d7 in /home/insublee/anaconda3/envs/chatbot/bin/python)\nframe #26: PyObject_Call + 0x6e (0x55986b17f3ae in /home/insublee/anaconda3/envs/chatbot/bin/python)\nframe #27: _PyEval_EvalFrameDefault + 0x1e47 (0x55986b226e97 in /home/insublee/anaconda3/envs/chatbot/bin/python)\nframe #28: _PyEval_EvalCodeWithName + 0xc30 (0x55986b16d640 in /home/insublee/anaconda3/envs/chatbot/bin/python)\nframe #29: _PyFunction_FastCallDict + 0x3ff (0x55986b16e01f in /home/insublee/anaconda3/envs/chatbot/bin/python)\nframe #30: _PyObject_Call_Prepend + 0x63 (0x55986b18c7a3 in /home/insublee/anaconda3/envs/chatbot/bin/python)\nframe #31: PyObject_Call + 0x6e (0x55986b17f3ae in /home/insublee/anaconda3/envs/chatbot/bin/python)\nframe #32: _PyEval_EvalFrameDefault + 0x1e47 (0x55986b226e97 in /home/insublee/anaconda3/envs/chatbot/bin/python)\nframe #33: _PyEval_EvalCodeWithName + 0x5da (0x55986b16cfea in /home/insublee/anaconda3/envs/chatbot/bin/python)\nframe #34: _PyFunction_FastCallDict + 0x1d5 (0x55986b16ddf5 in /home/insublee/anaconda3/envs/chatbot/bin/python)\nframe #35: _PyObject_Call_Prepend + 0x63 (0x55986b18c7a3 in /home/insublee/anaconda3/envs/chatbot/bin/python)\nframe #36: <unknown function> + 0x16bd2a (0x55986b1c3d2a in /home/insublee/anaconda3/envs/chatbot/bin/python)\nframe #37: _PyObject_FastCallKeywords + 0x128 (0x55986b1c4938 in /home/insublee/anaconda3/envs/chatbot/bin/python)\nframe #38: _PyEval_EvalFrameDefault + 0x49f6 (0x55986b229a46 in /home/insublee/anaconda3/envs/chatbot/bin/python)\nframe #39: _PyEval_EvalCodeWithName + 0x2f9 (0x55986b16cd09 in /home/insublee/anaconda3/envs/chatbot/bin/python)\nframe #40: PyEval_EvalCodeEx + 0x44 (0x55986b16dbe4 in /home/insublee/anaconda3/envs/chatbot/bin/python)\nframe #41: PyEval_EvalCode + 0x1c (0x55986b16dc0c in /home/insublee/anaconda3/envs/chatbot/bin/python)\nframe #42: <unknown function> + 0x1dcdbd (0x55986b234dbd in /home/insublee/anaconda3/envs/chatbot/bin/python)\nframe #43: _PyMethodDef_RawFastCallKeywords + 0xe9 (0x55986b1bd739 in /home/insublee/anaconda3/envs/chatbot/bin/python)\nframe #44: _PyCFunction_FastCallKeywords + 0x21 (0x55986b1bd9d1 in /home/insublee/anaconda3/envs/chatbot/bin/python)\nframe #45: _PyEval_EvalFrameDefault + 0x4705 (0x55986b229755 in /home/insublee/anaconda3/envs/chatbot/bin/python)\nframe #46: _PyGen_Send + 0x2a2 (0x55986b1c5952 in /home/insublee/anaconda3/envs/chatbot/bin/python)\nframe #47: _PyEval_EvalFrameDefault + 0x1a85 (0x55986b226ad5 in /home/insublee/anaconda3/envs/chatbot/bin/python)\nframe #48: _PyGen_Send + 0x2a2 (0x55986b1c5952 in /home/insublee/anaconda3/envs/chatbot/bin/python)\nframe #49: _PyEval_EvalFrameDefault + 0x1a85 (0x55986b226ad5 in /home/insublee/anaconda3/envs/chatbot/bin/python)\nframe #50: _PyGen_Send + 0x2a2 (0x55986b1c5952 in /home/insublee/anaconda3/envs/chatbot/bin/python)\nframe #51: _PyMethodDef_RawFastCallKeywords + 0x8d (0x55986b1bd6dd in /home/insublee/anaconda3/envs/chatbot/bin/python)\nframe #52: _PyMethodDescr_FastCallKeywords + 0x4f (0x55986b1c477f in /home/insublee/anaconda3/envs/chatbot/bin/python)\nframe #53: _PyEval_EvalFrameDefault + 0x4bec (0x55986b229c3c in /home/insublee/anaconda3/envs/chatbot/bin/python)\nframe #54: _PyFunction_FastCallKeywords + 0xfb (0x55986b1bce2b in /home/insublee/anaconda3/envs/chatbot/bin/python)\nframe #55: _PyEval_EvalFrameDefault + 0x416 (0x55986b225466 in /home/insublee/anaconda3/envs/chatbot/bin/python)\nframe #56: _PyFunction_FastCallKeywords + 0xfb (0x55986b1bce2b in /home/insublee/anaconda3/envs/chatbot/bin/python)\nframe #57: _PyEval_EvalFrameDefault + 0x6a0 (0x55986b2256f0 in /home/insublee/anaconda3/envs/chatbot/bin/python)\nframe #58: _PyEval_EvalCodeWithName + 0x2f9 (0x55986b16cd09 in /home/insublee/anaconda3/envs/chatbot/bin/python)\nframe #59: _PyFunction_FastCallDict + 0x3ff (0x55986b16e01f in /home/insublee/anaconda3/envs/chatbot/bin/python)\nframe #60: _PyObject_Call_Prepend + 0x63 (0x55986b18c7a3 in /home/insublee/anaconda3/envs/chatbot/bin/python)\nframe #61: PyObject_Call + 0x6e (0x55986b17f3ae in /home/insublee/anaconda3/envs/chatbot/bin/python)\nframe #62: _PyEval_EvalFrameDefault + 0x1e47 (0x55986b226e97 in /home/insublee/anaconda3/envs/chatbot/bin/python)\nframe #63: _PyEval_EvalCodeWithName + 0x5da (0x55986b16cfea in /home/insublee/anaconda3/envs/chatbot/bin/python)\n",
     "output_type": "error",
     "traceback": [
      "\u001b[0;31m---------------------------------------------------------------------------\u001b[0m",
      "\u001b[0;31mRuntimeError\u001b[0m                              Traceback (most recent call last)",
      "\u001b[0;32m<ipython-input-2-099f8b03dfb6>\u001b[0m in \u001b[0;36m<module>\u001b[0;34m\u001b[0m\n\u001b[1;32m      1\u001b[0m \u001b[0;32mfrom\u001b[0m \u001b[0mchatbot\u001b[0m \u001b[0;32mimport\u001b[0m \u001b[0mChatbot\u001b[0m\u001b[0;34m\u001b[0m\u001b[0;34m\u001b[0m\u001b[0m\n\u001b[0;32m----> 2\u001b[0;31m \u001b[0mchatbot\u001b[0m \u001b[0;34m=\u001b[0m \u001b[0mChatbot\u001b[0m\u001b[0;34m(\u001b[0m\u001b[0mhparams\u001b[0m\u001b[0;34m)\u001b[0m\u001b[0;34m\u001b[0m\u001b[0;34m\u001b[0m\u001b[0m\n\u001b[0m",
      "\u001b[0;32m~/chatbot/chatbot/model/chatbot.py\u001b[0m in \u001b[0;36m__init__\u001b[0;34m(self, hparams)\u001b[0m\n\u001b[1;32m    159\u001b[0m         \u001b[0mself\u001b[0m\u001b[0;34m.\u001b[0m\u001b[0msave_hyperparameters\u001b[0m\u001b[0;34m(\u001b[0m\u001b[0;34m)\u001b[0m\u001b[0;34m\u001b[0m\u001b[0;34m\u001b[0m\u001b[0m\n\u001b[1;32m    160\u001b[0m         \u001b[0mself\u001b[0m\u001b[0;34m.\u001b[0m\u001b[0mtokenizer\u001b[0m \u001b[0;34m=\u001b[0m \u001b[0mBartTokenizer\u001b[0m\u001b[0;34m.\u001b[0m\u001b[0mfrom_pretrained\u001b[0m\u001b[0;34m(\u001b[0m\u001b[0;34m\"facebook/bart-base\"\u001b[0m\u001b[0;34m)\u001b[0m\u001b[0;34m\u001b[0m\u001b[0;34m\u001b[0m\u001b[0m\n\u001b[0;32m--> 161\u001b[0;31m         \u001b[0mself\u001b[0m\u001b[0;34m.\u001b[0m\u001b[0mmodel\u001b[0m \u001b[0;34m=\u001b[0m \u001b[0mChatbotModel\u001b[0m\u001b[0;34m.\u001b[0m\u001b[0mfrom_pretrained\u001b[0m\u001b[0;34m(\u001b[0m\u001b[0;34m\"facebook/bart-base\"\u001b[0m\u001b[0;34m,\u001b[0m\u001b[0;34m**\u001b[0m\u001b[0;34m{\u001b[0m\u001b[0;34m\"hparams\"\u001b[0m\u001b[0;34m:\u001b[0m\u001b[0mself\u001b[0m\u001b[0;34m.\u001b[0m\u001b[0mhparams\u001b[0m\u001b[0;34m}\u001b[0m\u001b[0;34m)\u001b[0m\u001b[0;34m\u001b[0m\u001b[0;34m\u001b[0m\u001b[0m\n\u001b[0m\u001b[1;32m    162\u001b[0m \u001b[0;34m\u001b[0m\u001b[0m\n\u001b[1;32m    163\u001b[0m     \u001b[0;32mdef\u001b[0m \u001b[0mforward\u001b[0m\u001b[0;34m(\u001b[0m\u001b[0mself\u001b[0m\u001b[0;34m,\u001b[0m \u001b[0;34m**\u001b[0m\u001b[0minput\u001b[0m\u001b[0;34m)\u001b[0m\u001b[0;34m:\u001b[0m\u001b[0;34m\u001b[0m\u001b[0;34m\u001b[0m\u001b[0m\n",
      "\u001b[0;32m~/anaconda3/envs/chatbot/lib/python3.7/site-packages/transformers/modeling_utils.py\u001b[0m in \u001b[0;36mfrom_pretrained\u001b[0;34m(cls, pretrained_model_name_or_path, *model_args, **kwargs)\u001b[0m\n\u001b[1;32m   1032\u001b[0m \u001b[0;34m\u001b[0m\u001b[0m\n\u001b[1;32m   1033\u001b[0m         \u001b[0;31m# Instantiate model.\u001b[0m\u001b[0;34m\u001b[0m\u001b[0;34m\u001b[0m\u001b[0;34m\u001b[0m\u001b[0m\n\u001b[0;32m-> 1034\u001b[0;31m         \u001b[0mmodel\u001b[0m \u001b[0;34m=\u001b[0m \u001b[0mcls\u001b[0m\u001b[0;34m(\u001b[0m\u001b[0mconfig\u001b[0m\u001b[0;34m,\u001b[0m \u001b[0;34m*\u001b[0m\u001b[0mmodel_args\u001b[0m\u001b[0;34m,\u001b[0m \u001b[0;34m**\u001b[0m\u001b[0mmodel_kwargs\u001b[0m\u001b[0;34m)\u001b[0m\u001b[0;34m\u001b[0m\u001b[0;34m\u001b[0m\u001b[0m\n\u001b[0m\u001b[1;32m   1035\u001b[0m \u001b[0;34m\u001b[0m\u001b[0m\n\u001b[1;32m   1036\u001b[0m         \u001b[0;32mif\u001b[0m \u001b[0mstate_dict\u001b[0m \u001b[0;32mis\u001b[0m \u001b[0;32mNone\u001b[0m \u001b[0;32mand\u001b[0m \u001b[0;32mnot\u001b[0m \u001b[0mfrom_tf\u001b[0m\u001b[0;34m:\u001b[0m\u001b[0;34m\u001b[0m\u001b[0;34m\u001b[0m\u001b[0m\n",
      "\u001b[0;32m~/chatbot/chatbot/model/chatbot.py\u001b[0m in \u001b[0;36m__init__\u001b[0;34m(self, config, **kwarg)\u001b[0m\n\u001b[1;32m     33\u001b[0m         \u001b[0mself\u001b[0m\u001b[0;34m.\u001b[0m\u001b[0mselector\u001b[0m \u001b[0;34m=\u001b[0m \u001b[0mSelector\u001b[0m\u001b[0;34m(\u001b[0m\u001b[0mself\u001b[0m\u001b[0;34m.\u001b[0m\u001b[0mhparams\u001b[0m\u001b[0;34m)\u001b[0m\u001b[0;34m\u001b[0m\u001b[0;34m\u001b[0m\u001b[0m\n\u001b[1;32m     34\u001b[0m         \u001b[0mself\u001b[0m\u001b[0;34m.\u001b[0m\u001b[0msentiment_model\u001b[0m \u001b[0;34m=\u001b[0m \u001b[0mSentimentAstimater\u001b[0m\u001b[0;34m(\u001b[0m\u001b[0mself\u001b[0m\u001b[0;34m.\u001b[0m\u001b[0mhparams\u001b[0m\u001b[0;34m)\u001b[0m\u001b[0;34m\u001b[0m\u001b[0;34m\u001b[0m\u001b[0m\n\u001b[0;32m---> 35\u001b[0;31m         \u001b[0mself\u001b[0m\u001b[0;34m.\u001b[0m\u001b[0msentiment_model\u001b[0m\u001b[0;34m.\u001b[0m\u001b[0mload_state_dict\u001b[0m\u001b[0;34m(\u001b[0m\u001b[0mtorch\u001b[0m\u001b[0;34m.\u001b[0m\u001b[0mload\u001b[0m\u001b[0;34m(\u001b[0m\u001b[0;34m'sentiment-analysis-en.pt'\u001b[0m\u001b[0;34m)\u001b[0m\u001b[0;34m)\u001b[0m\u001b[0;34m\u001b[0m\u001b[0;34m\u001b[0m\u001b[0m\n\u001b[0m\u001b[1;32m     36\u001b[0m \u001b[0;34m\u001b[0m\u001b[0m\n\u001b[1;32m     37\u001b[0m         \u001b[0;31m#del self.model\u001b[0m\u001b[0;34m\u001b[0m\u001b[0;34m\u001b[0m\u001b[0;34m\u001b[0m\u001b[0m\n",
      "\u001b[0;32m~/anaconda3/envs/chatbot/lib/python3.7/site-packages/torch/serialization.py\u001b[0m in \u001b[0;36mload\u001b[0;34m(f, map_location, pickle_module, **pickle_load_args)\u001b[0m\n\u001b[1;32m    525\u001b[0m     \u001b[0;32mwith\u001b[0m \u001b[0m_open_file_like\u001b[0m\u001b[0;34m(\u001b[0m\u001b[0mf\u001b[0m\u001b[0;34m,\u001b[0m \u001b[0;34m'rb'\u001b[0m\u001b[0;34m)\u001b[0m \u001b[0;32mas\u001b[0m \u001b[0mopened_file\u001b[0m\u001b[0;34m:\u001b[0m\u001b[0;34m\u001b[0m\u001b[0;34m\u001b[0m\u001b[0m\n\u001b[1;32m    526\u001b[0m         \u001b[0;32mif\u001b[0m \u001b[0m_is_zipfile\u001b[0m\u001b[0;34m(\u001b[0m\u001b[0mopened_file\u001b[0m\u001b[0;34m)\u001b[0m\u001b[0;34m:\u001b[0m\u001b[0;34m\u001b[0m\u001b[0;34m\u001b[0m\u001b[0m\n\u001b[0;32m--> 527\u001b[0;31m             \u001b[0;32mwith\u001b[0m \u001b[0m_open_zipfile_reader\u001b[0m\u001b[0;34m(\u001b[0m\u001b[0mf\u001b[0m\u001b[0;34m)\u001b[0m \u001b[0;32mas\u001b[0m \u001b[0mopened_zipfile\u001b[0m\u001b[0;34m:\u001b[0m\u001b[0;34m\u001b[0m\u001b[0;34m\u001b[0m\u001b[0m\n\u001b[0m\u001b[1;32m    528\u001b[0m                 \u001b[0;32mreturn\u001b[0m \u001b[0m_load\u001b[0m\u001b[0;34m(\u001b[0m\u001b[0mopened_zipfile\u001b[0m\u001b[0;34m,\u001b[0m \u001b[0mmap_location\u001b[0m\u001b[0;34m,\u001b[0m \u001b[0mpickle_module\u001b[0m\u001b[0;34m,\u001b[0m \u001b[0;34m**\u001b[0m\u001b[0mpickle_load_args\u001b[0m\u001b[0;34m)\u001b[0m\u001b[0;34m\u001b[0m\u001b[0;34m\u001b[0m\u001b[0m\n\u001b[1;32m    529\u001b[0m         \u001b[0;32mreturn\u001b[0m \u001b[0m_legacy_load\u001b[0m\u001b[0;34m(\u001b[0m\u001b[0mopened_file\u001b[0m\u001b[0;34m,\u001b[0m \u001b[0mmap_location\u001b[0m\u001b[0;34m,\u001b[0m \u001b[0mpickle_module\u001b[0m\u001b[0;34m,\u001b[0m \u001b[0;34m**\u001b[0m\u001b[0mpickle_load_args\u001b[0m\u001b[0;34m)\u001b[0m\u001b[0;34m\u001b[0m\u001b[0;34m\u001b[0m\u001b[0m\n",
      "\u001b[0;32m~/anaconda3/envs/chatbot/lib/python3.7/site-packages/torch/serialization.py\u001b[0m in \u001b[0;36m__init__\u001b[0;34m(self, name_or_buffer)\u001b[0m\n\u001b[1;32m    222\u001b[0m \u001b[0;32mclass\u001b[0m \u001b[0m_open_zipfile_reader\u001b[0m\u001b[0;34m(\u001b[0m\u001b[0m_opener\u001b[0m\u001b[0;34m)\u001b[0m\u001b[0;34m:\u001b[0m\u001b[0;34m\u001b[0m\u001b[0;34m\u001b[0m\u001b[0m\n\u001b[1;32m    223\u001b[0m     \u001b[0;32mdef\u001b[0m \u001b[0m__init__\u001b[0m\u001b[0;34m(\u001b[0m\u001b[0mself\u001b[0m\u001b[0;34m,\u001b[0m \u001b[0mname_or_buffer\u001b[0m\u001b[0;34m)\u001b[0m\u001b[0;34m:\u001b[0m\u001b[0;34m\u001b[0m\u001b[0;34m\u001b[0m\u001b[0m\n\u001b[0;32m--> 224\u001b[0;31m         \u001b[0msuper\u001b[0m\u001b[0;34m(\u001b[0m\u001b[0m_open_zipfile_reader\u001b[0m\u001b[0;34m,\u001b[0m \u001b[0mself\u001b[0m\u001b[0;34m)\u001b[0m\u001b[0;34m.\u001b[0m\u001b[0m__init__\u001b[0m\u001b[0;34m(\u001b[0m\u001b[0mtorch\u001b[0m\u001b[0;34m.\u001b[0m\u001b[0m_C\u001b[0m\u001b[0;34m.\u001b[0m\u001b[0mPyTorchFileReader\u001b[0m\u001b[0;34m(\u001b[0m\u001b[0mname_or_buffer\u001b[0m\u001b[0;34m)\u001b[0m\u001b[0;34m)\u001b[0m\u001b[0;34m\u001b[0m\u001b[0;34m\u001b[0m\u001b[0m\n\u001b[0m\u001b[1;32m    225\u001b[0m \u001b[0;34m\u001b[0m\u001b[0m\n\u001b[1;32m    226\u001b[0m \u001b[0;34m\u001b[0m\u001b[0m\n",
      "\u001b[0;31mRuntimeError\u001b[0m: version_ <= kMaxSupportedFileFormatVersion INTERNAL ASSERT FAILED at /tmp/pip-req-build-ufslq_a9/caffe2/serialize/inline_container.cc:132, please report a bug to PyTorch. Attempted to read a PyTorch file with version 3, but the maximum supported version for reading is 2. Your PyTorch installation may be too old. (init at /tmp/pip-req-build-ufslq_a9/caffe2/serialize/inline_container.cc:132)\nframe #0: c10::Error::Error(c10::SourceLocation, std::__cxx11::basic_string<char, std::char_traits<char>, std::allocator<char> > const&) + 0x6d (0x7f262037d2ad in /home/insublee/anaconda3/envs/chatbot/lib/python3.7/site-packages/torch/lib/libc10.so)\nframe #1: caffe2::serialize::PyTorchStreamReader::init() + 0x25db (0x7f25f018aa1b in /home/insublee/anaconda3/envs/chatbot/lib/python3.7/site-packages/torch/lib/libtorch.so)\nframe #2: caffe2::serialize::PyTorchStreamReader::PyTorchStreamReader(std::__cxx11::basic_string<char, std::char_traits<char>, std::allocator<char> > const&) + 0x7b (0x7f25f018bf2b in /home/insublee/anaconda3/envs/chatbot/lib/python3.7/site-packages/torch/lib/libtorch.so)\nframe #3: <unknown function> + 0x6b237b (0x7f2620a8437b in /home/insublee/anaconda3/envs/chatbot/lib/python3.7/site-packages/torch/lib/libtorch_python.so)\nframe #4: <unknown function> + 0x158006 (0x7f262052a006 in /home/insublee/anaconda3/envs/chatbot/lib/python3.7/site-packages/torch/lib/libtorch_python.so)\nframe #5: _PyMethodDef_RawFastCallDict + 0x24d (0x55986b18e63d in /home/insublee/anaconda3/envs/chatbot/bin/python)\nframe #6: _PyCFunction_FastCallDict + 0x21 (0x55986b18e7c1 in /home/insublee/anaconda3/envs/chatbot/bin/python)\nframe #7: _PyObject_Call_Prepend + 0x63 (0x55986b18c7a3 in /home/insublee/anaconda3/envs/chatbot/bin/python)\nframe #8: PyObject_Call + 0x6e (0x55986b17f3ae in /home/insublee/anaconda3/envs/chatbot/bin/python)\nframe #9: <unknown function> + 0x9e9dc (0x55986b0f69dc in /home/insublee/anaconda3/envs/chatbot/bin/python)\nframe #10: _PyObject_FastCallKeywords + 0x128 (0x55986b1c4938 in /home/insublee/anaconda3/envs/chatbot/bin/python)\nframe #11: _PyEval_EvalFrameDefault + 0x522e (0x55986b22a27e in /home/insublee/anaconda3/envs/chatbot/bin/python)\nframe #12: _PyEval_EvalCodeWithName + 0x5da (0x55986b16cfea in /home/insublee/anaconda3/envs/chatbot/bin/python)\nframe #13: _PyFunction_FastCallDict + 0x1d5 (0x55986b16ddf5 in /home/insublee/anaconda3/envs/chatbot/bin/python)\nframe #14: _PyObject_Call_Prepend + 0x63 (0x55986b18c7a3 in /home/insublee/anaconda3/envs/chatbot/bin/python)\nframe #15: <unknown function> + 0x16bd2a (0x55986b1c3d2a in /home/insublee/anaconda3/envs/chatbot/bin/python)\nframe #16: _PyObject_FastCallKeywords + 0x128 (0x55986b1c4938 in /home/insublee/anaconda3/envs/chatbot/bin/python)\nframe #17: _PyEval_EvalFrameDefault + 0x49f6 (0x55986b229a46 in /home/insublee/anaconda3/envs/chatbot/bin/python)\nframe #18: _PyEval_EvalCodeWithName + 0x2f9 (0x55986b16cd09 in /home/insublee/anaconda3/envs/chatbot/bin/python)\nframe #19: _PyFunction_FastCallKeywords + 0x387 (0x55986b1bd0b7 in /home/insublee/anaconda3/envs/chatbot/bin/python)\nframe #20: _PyEval_EvalFrameDefault + 0x4a99 (0x55986b229ae9 in /home/insublee/anaconda3/envs/chatbot/bin/python)\nframe #21: _PyEval_EvalCodeWithName + 0x5da (0x55986b16cfea in /home/insublee/anaconda3/envs/chatbot/bin/python)\nframe #22: _PyFunction_FastCallDict + 0x3ff (0x55986b16e01f in /home/insublee/anaconda3/envs/chatbot/bin/python)\nframe #23: _PyObject_Call_Prepend + 0x63 (0x55986b18c7a3 in /home/insublee/anaconda3/envs/chatbot/bin/python)\nframe #24: <unknown function> + 0x16bd2a (0x55986b1c3d2a in /home/insublee/anaconda3/envs/chatbot/bin/python)\nframe #25: <unknown function> + 0x16c6d7 (0x55986b1c46d7 in /home/insublee/anaconda3/envs/chatbot/bin/python)\nframe #26: PyObject_Call + 0x6e (0x55986b17f3ae in /home/insublee/anaconda3/envs/chatbot/bin/python)\nframe #27: _PyEval_EvalFrameDefault + 0x1e47 (0x55986b226e97 in /home/insublee/anaconda3/envs/chatbot/bin/python)\nframe #28: _PyEval_EvalCodeWithName + 0xc30 (0x55986b16d640 in /home/insublee/anaconda3/envs/chatbot/bin/python)\nframe #29: _PyFunction_FastCallDict + 0x3ff (0x55986b16e01f in /home/insublee/anaconda3/envs/chatbot/bin/python)\nframe #30: _PyObject_Call_Prepend + 0x63 (0x55986b18c7a3 in /home/insublee/anaconda3/envs/chatbot/bin/python)\nframe #31: PyObject_Call + 0x6e (0x55986b17f3ae in /home/insublee/anaconda3/envs/chatbot/bin/python)\nframe #32: _PyEval_EvalFrameDefault + 0x1e47 (0x55986b226e97 in /home/insublee/anaconda3/envs/chatbot/bin/python)\nframe #33: _PyEval_EvalCodeWithName + 0x5da (0x55986b16cfea in /home/insublee/anaconda3/envs/chatbot/bin/python)\nframe #34: _PyFunction_FastCallDict + 0x1d5 (0x55986b16ddf5 in /home/insublee/anaconda3/envs/chatbot/bin/python)\nframe #35: _PyObject_Call_Prepend + 0x63 (0x55986b18c7a3 in /home/insublee/anaconda3/envs/chatbot/bin/python)\nframe #36: <unknown function> + 0x16bd2a (0x55986b1c3d2a in /home/insublee/anaconda3/envs/chatbot/bin/python)\nframe #37: _PyObject_FastCallKeywords + 0x128 (0x55986b1c4938 in /home/insublee/anaconda3/envs/chatbot/bin/python)\nframe #38: _PyEval_EvalFrameDefault + 0x49f6 (0x55986b229a46 in /home/insublee/anaconda3/envs/chatbot/bin/python)\nframe #39: _PyEval_EvalCodeWithName + 0x2f9 (0x55986b16cd09 in /home/insublee/anaconda3/envs/chatbot/bin/python)\nframe #40: PyEval_EvalCodeEx + 0x44 (0x55986b16dbe4 in /home/insublee/anaconda3/envs/chatbot/bin/python)\nframe #41: PyEval_EvalCode + 0x1c (0x55986b16dc0c in /home/insublee/anaconda3/envs/chatbot/bin/python)\nframe #42: <unknown function> + 0x1dcdbd (0x55986b234dbd in /home/insublee/anaconda3/envs/chatbot/bin/python)\nframe #43: _PyMethodDef_RawFastCallKeywords + 0xe9 (0x55986b1bd739 in /home/insublee/anaconda3/envs/chatbot/bin/python)\nframe #44: _PyCFunction_FastCallKeywords + 0x21 (0x55986b1bd9d1 in /home/insublee/anaconda3/envs/chatbot/bin/python)\nframe #45: _PyEval_EvalFrameDefault + 0x4705 (0x55986b229755 in /home/insublee/anaconda3/envs/chatbot/bin/python)\nframe #46: _PyGen_Send + 0x2a2 (0x55986b1c5952 in /home/insublee/anaconda3/envs/chatbot/bin/python)\nframe #47: _PyEval_EvalFrameDefault + 0x1a85 (0x55986b226ad5 in /home/insublee/anaconda3/envs/chatbot/bin/python)\nframe #48: _PyGen_Send + 0x2a2 (0x55986b1c5952 in /home/insublee/anaconda3/envs/chatbot/bin/python)\nframe #49: _PyEval_EvalFrameDefault + 0x1a85 (0x55986b226ad5 in /home/insublee/anaconda3/envs/chatbot/bin/python)\nframe #50: _PyGen_Send + 0x2a2 (0x55986b1c5952 in /home/insublee/anaconda3/envs/chatbot/bin/python)\nframe #51: _PyMethodDef_RawFastCallKeywords + 0x8d (0x55986b1bd6dd in /home/insublee/anaconda3/envs/chatbot/bin/python)\nframe #52: _PyMethodDescr_FastCallKeywords + 0x4f (0x55986b1c477f in /home/insublee/anaconda3/envs/chatbot/bin/python)\nframe #53: _PyEval_EvalFrameDefault + 0x4bec (0x55986b229c3c in /home/insublee/anaconda3/envs/chatbot/bin/python)\nframe #54: _PyFunction_FastCallKeywords + 0xfb (0x55986b1bce2b in /home/insublee/anaconda3/envs/chatbot/bin/python)\nframe #55: _PyEval_EvalFrameDefault + 0x416 (0x55986b225466 in /home/insublee/anaconda3/envs/chatbot/bin/python)\nframe #56: _PyFunction_FastCallKeywords + 0xfb (0x55986b1bce2b in /home/insublee/anaconda3/envs/chatbot/bin/python)\nframe #57: _PyEval_EvalFrameDefault + 0x6a0 (0x55986b2256f0 in /home/insublee/anaconda3/envs/chatbot/bin/python)\nframe #58: _PyEval_EvalCodeWithName + 0x2f9 (0x55986b16cd09 in /home/insublee/anaconda3/envs/chatbot/bin/python)\nframe #59: _PyFunction_FastCallDict + 0x3ff (0x55986b16e01f in /home/insublee/anaconda3/envs/chatbot/bin/python)\nframe #60: _PyObject_Call_Prepend + 0x63 (0x55986b18c7a3 in /home/insublee/anaconda3/envs/chatbot/bin/python)\nframe #61: PyObject_Call + 0x6e (0x55986b17f3ae in /home/insublee/anaconda3/envs/chatbot/bin/python)\nframe #62: _PyEval_EvalFrameDefault + 0x1e47 (0x55986b226e97 in /home/insublee/anaconda3/envs/chatbot/bin/python)\nframe #63: _PyEval_EvalCodeWithName + 0x5da (0x55986b16cfea in /home/insublee/anaconda3/envs/chatbot/bin/python)\n"
     ]
    }
   ],
   "source": [
    "from chatbot import Chatbot\n",
    "chatbot = Chatbot(hparams)"
   ]
  },
  {
   "cell_type": "code",
   "execution_count": null,
   "id": "flying-insurance",
   "metadata": {
    "scrolled": false
   },
   "outputs": [],
   "source": [
    "from chatbot.data import DataModule\n",
    "dm = DataModule(hparams)\n",
    "dm.prepare_data()\n",
    "dm.setup('fit')"
   ]
  },
  {
   "cell_type": "code",
   "execution_count": null,
   "id": "accepted-chess",
   "metadata": {},
   "outputs": [],
   "source": [
    "# data check\n",
    "batch = next(iter(dm.train_dataloader()))\n",
    "for i in batch.keys():\n",
    "    print(i, batch[i].size())"
   ]
  },
  {
   "cell_type": "code",
   "execution_count": null,
   "id": "wired-bahamas",
   "metadata": {
    "scrolled": true
   },
   "outputs": [],
   "source": [
    "# forward test\n",
    "forward_out = chatbot(**batch)\n",
    "print(forward_out.keys()) # odict_keys(['loss', 'logits', 'past_key_values', 'encoder_last_hidden_state'])"
   ]
  },
  {
   "cell_type": "code",
   "execution_count": null,
   "id": "recent-definition",
   "metadata": {},
   "outputs": [],
   "source": [
    "# training step test\n",
    "loss = chatbot.training_step(batch,0)\n",
    "print(loss) # tensor(14.2616, grad_fn=<AddBackward0>)"
   ]
  },
  {
   "cell_type": "code",
   "execution_count": null,
   "id": "distinct-pursuit",
   "metadata": {},
   "outputs": [],
   "source": [
    "# validation step test\n",
    "loss = chatbot.validation_step(batch,0)\n",
    "print(loss) # tensor(14.2616, grad_fn=<AddBackward0>)"
   ]
  },
  {
   "cell_type": "code",
   "execution_count": null,
   "id": "burning-decrease",
   "metadata": {},
   "outputs": [],
   "source": [
    "# generation test1. no input\n",
    "outputs = chatbot.model.generate(max_length=40)\n",
    "print(\"Generated:\", dm.tokenizer.decode(outputs[0], skip_special_tokens=True))"
   ]
  },
  {
   "cell_type": "code",
   "execution_count": null,
   "id": "daily-struggle",
   "metadata": {},
   "outputs": [],
   "source": [
    "# generation test2. yes input\n",
    "input_text = \"hello my name is insub, and\"\n",
    "tokenized_text = dm.tokenizer([input_text], return_tensors=\"pt\").input_ids\n",
    "outputs = chatbot.model.generate(input_ids=tokenized_text, max_length=40)\n",
    "print(\"Generated:\", dm.tokenizer.decode(outputs[0], skip_special_tokens=True))"
   ]
  },
  {
   "cell_type": "code",
   "execution_count": null,
   "id": "substantial-spice",
   "metadata": {
    "scrolled": false
   },
   "outputs": [],
   "source": [
    "import pytorch_lightning as pl\n",
    "# trainer loading and fit\n",
    "#trainer = pl.Trainer(gpus=-1, auto_select_gpus=True)\n",
    "#trainer = pl.Trainer(gpus=4, accelerator='ddp2')\n",
    "#trainer = pl.Trainer(gpus=1, max_epochs=2)\n",
    "trainer = pl.Trainer(gpus=1, max_epochs=1)\n",
    "#trainer.fit(chatbot, dm.train_dataloader(), dm.val_dataloader())\n",
    "trainer.fit(chatbot, dm)"
   ]
  },
  {
   "cell_type": "code",
   "execution_count": null,
   "id": "oriented-poetry",
   "metadata": {},
   "outputs": [],
   "source": [
    "# generation test3. after training no input\n",
    "outputs = chatbot.model.generate(max_length=40)\n",
    "print(\"Generated:\", dm.tokenizer.decode(outputs[0], skip_special_tokens=True))"
   ]
  },
  {
   "cell_type": "code",
   "execution_count": null,
   "id": "inside-birth",
   "metadata": {},
   "outputs": [],
   "source": [
    "# generation test4. after training yes input\n",
    "input_text = \"hi , how are you doing ? i'm getting ready to do some cheetah chasing to stay in shape .\"\n",
    "tokenized_text = dm.tokenizer([input_text], return_tensors=\"pt\").input_ids\n",
    "outputs = chatbot.model.generate(input_ids=tokenized_text, max_length=40)\n",
    "print(\"Generated:\", dm.tokenizer.decode(outputs[0], skip_special_tokens=True))"
   ]
  },
  {
   "cell_type": "code",
   "execution_count": null,
   "id": "alpha-cable",
   "metadata": {
    "scrolled": true
   },
   "outputs": [],
   "source": [
    "trainer.validate(val_dataloaders=dm.val_dataloaders())"
   ]
  },
  {
   "cell_type": "code",
   "execution_count": 3,
   "id": "clinical-involvement",
   "metadata": {
    "scrolled": false
   },
   "outputs": [
    {
     "name": "stdout",
     "output_type": "stream",
     "text": [
      "absl-py @ file:///tmp/build/80754af9/absl-py_1607439979954/work\r\n",
      "aiohttp @ file:///tmp/build/80754af9/aiohttp_1614360989480/work\r\n",
      "async-generator==1.10\r\n",
      "async-timeout==3.0.1\r\n",
      "attrs @ file:///tmp/build/80754af9/attrs_1604765588209/work\r\n",
      "backcall==0.2.0\r\n",
      "bleach @ file:///tmp/build/80754af9/bleach_1611254400839/work\r\n",
      "blinker==1.4\r\n",
      "boto3==1.17.21\r\n",
      "botocore==1.20.21\r\n",
      "brotlipy==0.7.0\r\n",
      "cachetools @ file:///home/conda/feedstock_root/build_artifacts/cachetools_1611555765219/work\r\n",
      "certifi==2020.12.5\r\n",
      "cffi @ file:///tmp/build/80754af9/cffi_1613246939562/work\r\n",
      "chardet @ file:///tmp/build/80754af9/chardet_1605303159953/work\r\n",
      "click==7.1.2\r\n",
      "coverage @ file:///tmp/build/80754af9/coverage_1614614864940/work\r\n",
      "cryptography @ file:///tmp/build/80754af9/cryptography_1613401440205/work\r\n",
      "Cython @ file:///tmp/build/80754af9/cython_1614014840177/work\r\n",
      "datasets==1.4.1\r\n",
      "decorator==4.4.2\r\n",
      "defusedxml==0.6.0\r\n",
      "dill==0.3.3\r\n",
      "entrypoints==0.3\r\n",
      "filelock==3.0.12\r\n",
      "fsspec @ file:///home/conda/feedstock_root/build_artifacts/fsspec_1614107550004/work\r\n",
      "future==0.18.2\r\n",
      "google-auth @ file:///home/conda/feedstock_root/build_artifacts/google-auth_1608136875028/work\r\n",
      "google-auth-oauthlib==0.4.1\r\n",
      "grpcio @ file:///tmp/build/80754af9/grpcio_1614883945333/work\r\n",
      "huggingface-hub==0.0.2\r\n",
      "idna @ file:///home/conda/feedstock_root/build_artifacts/idna_1593328102638/work\r\n",
      "importlib-metadata @ file:///tmp/build/80754af9/importlib-metadata_1602276842396/work\r\n",
      "install==1.3.4\r\n",
      "ipykernel @ file:///tmp/build/80754af9/ipykernel_1596206598566/work/dist/ipykernel-5.3.4-py3-none-any.whl\r\n",
      "ipython @ file:///tmp/build/80754af9/ipython_1614615642284/work\r\n",
      "ipython-genutils @ file:///tmp/build/80754af9/ipython_genutils_1606773439826/work\r\n",
      "ipywidgets @ file:///tmp/build/80754af9/ipywidgets_1610481889018/work\r\n",
      "jedi==0.17.0\r\n",
      "Jinja2 @ file:///home/linux1/recipes/ci/jinja2_1610990516718/work\r\n",
      "jmespath==0.10.0\r\n",
      "joblib==1.0.1\r\n",
      "jsonschema @ file:///tmp/build/80754af9/jsonschema_1602607155483/work\r\n",
      "jupyter==1.0.0\r\n",
      "jupyter-client @ file:///tmp/build/80754af9/jupyter_client_1601311786391/work\r\n",
      "jupyter-console @ file:///tmp/build/80754af9/jupyter_console_1598884538475/work\r\n",
      "jupyter-core @ file:///tmp/build/80754af9/jupyter_core_1612213308260/work\r\n",
      "jupyterlab-pygments @ file:///tmp/build/80754af9/jupyterlab_pygments_1601490720602/work\r\n",
      "jupyterlab-widgets @ file:///tmp/build/80754af9/jupyterlab_widgets_1609884341231/work\r\n",
      "Markdown @ file:///home/conda/feedstock_root/build_artifacts/markdown_1614595805172/work\r\n",
      "MarkupSafe @ file:///tmp/build/80754af9/markupsafe_1594371495811/work\r\n",
      "mistune @ file:///tmp/build/80754af9/mistune_1594373098390/work\r\n",
      "mkl-fft==1.3.0\r\n",
      "mkl-random==1.1.1\r\n",
      "mkl-service==2.3.0\r\n",
      "multidict @ file:///tmp/build/80754af9/multidict_1607367738239/work\r\n",
      "multiprocess==0.70.11.1\r\n",
      "nbclient @ file:///tmp/build/80754af9/nbclient_1602783176460/work\r\n",
      "nbconvert @ file:///tmp/build/80754af9/nbconvert_1601914821128/work\r\n",
      "nbformat @ file:///tmp/build/80754af9/nbformat_1610738111109/work\r\n",
      "nest-asyncio @ file:///tmp/build/80754af9/nest-asyncio_1606153767164/work\r\n",
      "notebook==6.0.3\r\n",
      "numpy @ file:///tmp/build/80754af9/numpy_and_numpy_base_1603479632437/work\r\n",
      "oauthlib==3.0.1\r\n",
      "packaging @ file:///tmp/build/80754af9/packaging_1607971725249/work\r\n",
      "pandas==1.2.3\r\n",
      "pandocfilters @ file:///tmp/build/80754af9/pandocfilters_1605120451932/work\r\n",
      "parso @ file:///tmp/build/80754af9/parso_1607623074025/work\r\n",
      "pexpect @ file:///tmp/build/80754af9/pexpect_1605563209008/work\r\n",
      "pickleshare @ file:///tmp/build/80754af9/pickleshare_1606932040724/work\r\n",
      "portalocker==2.0.0\r\n",
      "prometheus-client @ file:///tmp/build/80754af9/prometheus_client_1606344362066/work\r\n",
      "prompt-toolkit @ file:///tmp/build/80754af9/prompt-toolkit_1602688806899/work\r\n",
      "protobuf==3.14.0\r\n",
      "ptyprocess @ file:///tmp/build/80754af9/ptyprocess_1609355006118/work/dist/ptyprocess-0.7.0-py2.py3-none-any.whl\r\n",
      "pyarrow==3.0.0\r\n",
      "pyasn1==0.4.8\r\n",
      "pyasn1-modules==0.2.7\r\n",
      "pycparser @ file:///tmp/build/80754af9/pycparser_1594388511720/work\r\n",
      "Pygments @ file:///tmp/build/80754af9/pygments_1610565767015/work\r\n",
      "PyJWT @ file:///home/conda/feedstock_root/build_artifacts/pyjwt_1610910308735/work\r\n",
      "pyOpenSSL @ file:///home/conda/feedstock_root/build_artifacts/pyopenssl_1608055815057/work\r\n",
      "pyparsing @ file:///home/linux1/recipes/ci/pyparsing_1610983426697/work\r\n",
      "pyrsistent @ file:///tmp/build/80754af9/pyrsistent_1600141707582/work\r\n",
      "PySocks @ file:///tmp/build/80754af9/pysocks_1594394576006/work\r\n",
      "python-dateutil==2.8.1\r\n",
      "pytorch-lightning @ file:///home/conda/feedstock_root/build_artifacts/pytorch-lightning_1614192775604/work\r\n",
      "pytorch-pretrained-bert==0.6.2\r\n",
      "pytz==2021.1\r\n",
      "PyYAML==5.4.1\r\n",
      "pyzmq==20.0.0\r\n",
      "qtconsole @ file:///tmp/build/80754af9/qtconsole_1600870028330/work\r\n",
      "QtPy==1.9.0\r\n",
      "regex==2020.11.13\r\n",
      "requests @ file:///home/conda/feedstock_root/build_artifacts/requests_1608156231189/work\r\n",
      "requests-oauthlib @ file:///home/conda/feedstock_root/build_artifacts/requests-oauthlib_1595492159598/work\r\n",
      "rsa @ file:///home/conda/feedstock_root/build_artifacts/rsa_1614171254180/work\r\n",
      "s3transfer==0.3.4\r\n",
      "sacrebleu==1.5.1\r\n",
      "sacremoses==0.0.43\r\n",
      "Send2Trash @ file:///tmp/build/80754af9/send2trash_1607525499227/work\r\n",
      "six @ file:///tmp/build/80754af9/six_1605205313296/work\r\n",
      "tensorboard @ file:///home/conda/feedstock_root/build_artifacts/tensorboard_1610699261066/work/tensorboard-2.4.1-py3-none-any.whl\r\n",
      "tensorboard-plugin-wit @ file:///home/conda/feedstock_root/build_artifacts/tensorboard-plugin-wit_1611075653546/work/tensorboard_plugin_wit-1.8.0-py3-none-any.whl\r\n",
      "terminado==0.9.2\r\n",
      "testpath==0.4.4\r\n",
      "tokenizers==0.10.1\r\n",
      "torch==1.4.0\r\n",
      "tornado @ file:///tmp/build/80754af9/tornado_1606942283357/work\r\n",
      "tqdm @ file:///home/conda/feedstock_root/build_artifacts/tqdm_1614982742480/work\r\n",
      "traitlets @ file:///tmp/build/80754af9/traitlets_1602787416690/work\r\n",
      "transformers==4.3.3\r\n",
      "typing-extensions @ file:///home/conda/feedstock_root/build_artifacts/typing_extensions_1602702424206/work\r\n",
      "urllib3 @ file:///home/conda/feedstock_root/build_artifacts/urllib3_1611695416663/work\r\n",
      "wcwidth @ file:///tmp/build/80754af9/wcwidth_1593447189090/work\r\n",
      "webencodings==0.5.1\r\n",
      "Werkzeug==1.0.1\r\n",
      "widgetsnbextension==3.5.1\r\n",
      "xxhash==2.0.0\r\n",
      "yarl @ file:///tmp/build/80754af9/yarl_1606939952652/work\r\n",
      "zipp @ file:///tmp/build/80754af9/zipp_1604001098328/work\r\n"
     ]
    }
   ],
   "source": [
    "!pip freeze"
   ]
  }
 ],
 "metadata": {
  "kernelspec": {
   "display_name": "Python 3",
   "language": "python",
   "name": "python3"
  },
  "language_info": {
   "codemirror_mode": {
    "name": "ipython",
    "version": 3
   },
   "file_extension": ".py",
   "mimetype": "text/x-python",
   "name": "python",
   "nbconvert_exporter": "python",
   "pygments_lexer": "ipython3",
   "version": "3.7.10"
  }
 },
 "nbformat": 4,
 "nbformat_minor": 5
}
